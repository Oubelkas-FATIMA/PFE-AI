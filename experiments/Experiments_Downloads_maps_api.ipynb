{
 "cells": [
  {
   "cell_type": "code",
   "execution_count": null,
   "metadata": {},
   "outputs": [],
   "source": [
    "import geopandas as gpd\n",
    "import os\n",
    "import logging\n",
    "import shapely.wkt as wkt\n",
    "\n",
    "from utils.geometry_utils import create_square_polygon, create_bounding_box_from_polygon\n",
    "from utils.filename_utils import clean_filename\n",
    "\n",
    "from src.download_maps_images import GoogleMaps, MapboxRasterTiles, MapboxStaticTiles, GeoTif\n",
    "\n",
    "from config.config import (\n",
    "    DEFAULT_ZOOM, \n",
    "    DEFAULT_SQUARE_SIZE_KM, \n",
    "    DEFAULT_WIDTH_KM, \n",
    "    DEFAULT_HEIGHT_KM, \n",
    "    DEFAULT_OUTPUT_DIR, \n",
    "    shapefile_path, \n",
    "    output_dir, \n",
    "    index_to_use, \n",
    "    gdf\n",
    ")\n",
    "\n",
    "logging.basicConfig(level=logging.INFO, format='%(asctime)s - %(levelname)s - %(message)s')\n",
    "\n"
   ]
  },
  {
   "cell_type": "markdown",
   "metadata": {},
   "source": [
    "### Google Maps API"
   ]
  },
  {
   "cell_type": "code",
   "execution_count": 1,
   "metadata": {},
   "outputs": [
    {
     "name": "stderr",
     "output_type": "stream",
     "text": [
      "2024-05-22 02:08:50,320 - INFO - Tile downloaded successfully: staticapi_zoom16/0_62f6d924-a257-4847-bb67-ad63c1eebb21.png\n",
      "2024-05-22 02:08:50,982 - INFO - Tile downloaded successfully: staticapi_zoom16/1_fa2d3722-d8d3-4787-9ac1-69aaadd8962b.png\n",
      "2024-05-22 02:08:51,745 - INFO - Tile downloaded successfully: staticapi_zoom16/2_3f306e5e-6828-4faa-9e23-07ce03ad4b9a.png\n",
      "2024-05-22 02:08:51,746 - INFO - Download complete\n"
     ]
    }
   ],
   "source": [
    "os.makedirs(output_dir, exist_ok=True)\n",
    "gdf1 = gdf[:3]\n",
    "\n",
    "for index, row in gdf1.iterrows():\n",
    "    square_wkt = create_square_polygon(str(row['geometry']), square_size_km=DEFAULT_SQUARE_SIZE_KM)\n",
    "    parcel_name = row[\"parcel_id\"]\n",
    "    \n",
    "    GoogleMaps.get_static_map(output_dir, parcel_name, index, square_wkt)\n",
    "\n",
    "logging.info(\"Download complete\")\n"
   ]
  },
  {
   "cell_type": "markdown",
   "metadata": {},
   "source": [
    "### MapBox Raster API"
   ]
  },
  {
   "cell_type": "code",
   "execution_count": null,
   "metadata": {},
   "outputs": [
    {
     "name": "stderr",
     "output_type": "stream",
     "text": [
      "2024-05-22 02:18:27,832 - INFO - Tile downloaded successfully: /Users/Hiba/Desktop/tourba/mapbox/145_e4a605f3-c01d-4368-a822-e712172cc94d.png\n",
      "2024-05-22 02:18:27,833 - INFO - Download complete\n"
     ]
    }
   ],
   "source": [
    "original_polygon = gdf.iloc[index_to_use][\"geometry\"]\n",
    "square_polygon_wkt = create_square_polygon(str(original_polygon), square_size_km=1.5)\n",
    "polygon_obj = wkt.loads(square_polygon_wkt)\n",
    "latitude, longitude = polygon_obj.centroid.y, polygon_obj.centroid.x\n",
    "x, y = MapboxRasterTiles.lat_lon_to_tile_xy(latitude, longitude, DEFAULT_ZOOM)\n",
    "output_dir = \"/Users/Hiba/Desktop/tourba/mapbox\"\n",
    "os.makedirs(output_dir, exist_ok=True)\n",
    "MapboxRasterTiles.download_raster_tile(output_dir, gdf.iloc[index_to_use][\"parcel_id\"], index_to_use, x, y)\n",
    "\n",
    "logging.info(\"Download complete\")\n",
    "\n",
    "\n"
   ]
  },
  {
   "cell_type": "markdown",
   "metadata": {},
   "source": [
    "### MapBox Static API"
   ]
  },
  {
   "cell_type": "code",
   "execution_count": null,
   "metadata": {},
   "outputs": [
    {
     "name": "stderr",
     "output_type": "stream",
     "text": [
      "2024-05-22 02:24:40,035 - ERROR - Error while downloading: 404. URL : https://maps.googleapis.com/maps/api/staticmap/-4.72846163227669,33.990386880017766,16/640x640?access_token=pk.eyJ1IjoiaGliYWxiIiwiYSI6ImNsdm9nMXVtYTBqODUyam8xNWVucWNtZXUifQ.j2dv4_4_rcZFyINA4wzJ8g\n",
      "2024-05-22 02:24:40,036 - INFO - Download complete\n"
     ]
    }
   ],
   "source": [
    "for index, row in gdf[:1].iterrows():\n",
    "    square_polygon_wkt = create_square_polygon(str(row['geometry']), square_size_km=2)\n",
    "    parcel_name = row['parcel_id']\n",
    "    MapboxStaticTiles.get_static_map(output_dir, parcel_name, index, square_polygon_wkt)\n",
    "    \n",
    "logging.info(\"Download complete\")\n"
   ]
  },
  {
   "cell_type": "markdown",
   "metadata": {},
   "source": [
    "### SAM Geo"
   ]
  },
  {
   "cell_type": "code",
   "execution_count": null,
   "metadata": {},
   "outputs": [
    {
     "name": "stderr",
     "output_type": "stream",
     "text": [
      "2024-05-22 02:32:06,360 - INFO - HTTP Request: GET https://mt1.google.com/vt/lyrs=s&x=31905&y=26183&z=16 \"HTTP/1.1 200 OK\"\n",
      "2024-05-22 02:32:06,365 - INFO - HTTP Request: GET https://mt1.google.com/vt/lyrs=s&x=31905&y=26181&z=16 \"HTTP/1.1 200 OK\"\n",
      "2024-05-22 02:32:06,366 - INFO - HTTP Request: GET https://mt1.google.com/vt/lyrs=s&x=31905&y=26182&z=16 \"HTTP/1.1 200 OK\"\n",
      "2024-05-22 02:32:06,368 - INFO - HTTP Request: GET https://mt1.google.com/vt/lyrs=s&x=31905&y=26180&z=16 \"HTTP/1.1 200 OK\"\n",
      "2024-05-22 02:32:06,373 - INFO - HTTP Request: GET https://mt1.google.com/vt/lyrs=s&x=31906&y=26180&z=16 \"HTTP/1.1 200 OK\"\n",
      "2024-05-22 02:32:06,411 - INFO - HTTP Request: GET https://mt1.google.com/vt/lyrs=s&x=31906&y=26181&z=16 \"HTTP/1.1 200 OK\"\n",
      "2024-05-22 02:32:06,432 - INFO - HTTP Request: GET https://mt1.google.com/vt/lyrs=s&x=31906&y=26182&z=16 \"HTTP/1.1 200 OK\"\n",
      "2024-05-22 02:32:06,435 - INFO - HTTP Request: GET https://mt1.google.com/vt/lyrs=s&x=31906&y=26183&z=16 \"HTTP/1.1 200 OK\"\n",
      "2024-05-22 02:32:06,438 - INFO - HTTP Request: GET https://mt1.google.com/vt/lyrs=s&x=31907&y=26180&z=16 \"HTTP/1.1 200 OK\"\n",
      "2024-05-22 02:32:06,439 - INFO - HTTP Request: GET https://mt1.google.com/vt/lyrs=s&x=31907&y=26181&z=16 \"HTTP/1.1 200 OK\"\n",
      "2024-05-22 02:32:06,462 - INFO - HTTP Request: GET https://mt1.google.com/vt/lyrs=s&x=31907&y=26182&z=16 \"HTTP/1.1 200 OK\"\n",
      "2024-05-22 02:32:06,488 - INFO - HTTP Request: GET https://mt1.google.com/vt/lyrs=s&x=31907&y=26183&z=16 \"HTTP/1.1 200 OK\"\n",
      "2024-05-22 02:32:06,492 - INFO - HTTP Request: GET https://mt1.google.com/vt/lyrs=s&x=31908&y=26180&z=16 \"HTTP/1.1 200 OK\"\n",
      "2024-05-22 02:32:06,505 - INFO - HTTP Request: GET https://mt1.google.com/vt/lyrs=s&x=31908&y=26181&z=16 \"HTTP/1.1 200 OK\"\n",
      "2024-05-22 02:32:06,512 - INFO - HTTP Request: GET https://mt1.google.com/vt/lyrs=s&x=31908&y=26182&z=16 \"HTTP/1.1 200 OK\"\n",
      "2024-05-22 02:32:06,516 - INFO - HTTP Request: GET https://mt1.google.com/vt/lyrs=s&x=31908&y=26183&z=16 \"HTTP/1.1 200 OK\"\n"
     ]
    },
    {
     "name": "stdout",
     "output_type": "stream",
     "text": [
      "Downloaded image 01/16\n",
      "Downloaded image 02/16\n",
      "Downloaded image 03/16\n",
      "Downloaded image 04/16\n",
      "Downloaded image 05/16\n",
      "Downloaded image 06/16\n",
      "Downloaded image 07/16\n",
      "Downloaded image 08/16\n",
      "Downloaded image 09/16\n",
      "Downloaded image 10/16\n",
      "Downloaded image 11/16\n",
      "Downloaded image 12/16\n",
      "Downloaded image 13/16\n",
      "Downloaded image 14/16\n",
      "Downloaded image 15/16\n",
      "Downloaded image 16/16\n",
      "Saving GeoTIFF. Please wait...\n"
     ]
    },
    {
     "name": "stderr",
     "output_type": "stream",
     "text": [
      "2024-05-22 02:32:07,536 - INFO - HTTP Request: GET https://mt1.google.com/vt/lyrs=s&x=31907&y=26181&z=16 \"HTTP/1.1 200 OK\"\n",
      "2024-05-22 02:32:07,542 - INFO - HTTP Request: GET https://mt1.google.com/vt/lyrs=s&x=31907&y=26179&z=16 \"HTTP/1.1 200 OK\"\n",
      "2024-05-22 02:32:07,543 - INFO - HTTP Request: GET https://mt1.google.com/vt/lyrs=s&x=31907&y=26178&z=16 \"HTTP/1.1 200 OK\"\n",
      "2024-05-22 02:32:07,543 - INFO - HTTP Request: GET https://mt1.google.com/vt/lyrs=s&x=31908&y=26178&z=16 \"HTTP/1.1 200 OK\"\n",
      "2024-05-22 02:32:07,562 - INFO - HTTP Request: GET https://mt1.google.com/vt/lyrs=s&x=31907&y=26180&z=16 \"HTTP/1.1 200 OK\"\n",
      "2024-05-22 02:32:07,568 - INFO - HTTP Request: GET https://mt1.google.com/vt/lyrs=s&x=31908&y=26179&z=16 \"HTTP/1.1 200 OK\"\n",
      "2024-05-22 02:32:07,577 - INFO - HTTP Request: GET https://mt1.google.com/vt/lyrs=s&x=31908&y=26180&z=16 \"HTTP/1.1 200 OK\"\n",
      "2024-05-22 02:32:07,581 - INFO - HTTP Request: GET https://mt1.google.com/vt/lyrs=s&x=31908&y=26181&z=16 \"HTTP/1.1 200 OK\"\n",
      "2024-05-22 02:32:07,584 - INFO - HTTP Request: GET https://mt1.google.com/vt/lyrs=s&x=31909&y=26178&z=16 \"HTTP/1.1 200 OK\"\n",
      "2024-05-22 02:32:07,603 - INFO - HTTP Request: GET https://mt1.google.com/vt/lyrs=s&x=31909&y=26179&z=16 \"HTTP/1.1 200 OK\"\n"
     ]
    },
    {
     "name": "stdout",
     "output_type": "stream",
     "text": [
      "Image saved to ZOOM17/0_62f6d924-a257-4847-bb67-ad63c1eebb21.png\n",
      "Downloaded image 01/16\n",
      "Downloaded image 02/16\n",
      "Downloaded image 03/16\n",
      "Downloaded image 04/16\n",
      "Downloaded image 05/16\n",
      "Downloaded image 06/16\n",
      "Downloaded image 07/16\n",
      "Downloaded image 08/16\n",
      "Downloaded image 09/16\n"
     ]
    },
    {
     "name": "stderr",
     "output_type": "stream",
     "text": [
      "2024-05-22 02:32:07,610 - INFO - HTTP Request: GET https://mt1.google.com/vt/lyrs=s&x=31909&y=26180&z=16 \"HTTP/1.1 200 OK\"\n",
      "2024-05-22 02:32:07,621 - INFO - HTTP Request: GET https://mt1.google.com/vt/lyrs=s&x=31909&y=26181&z=16 \"HTTP/1.1 200 OK\"\n",
      "2024-05-22 02:32:07,624 - INFO - HTTP Request: GET https://mt1.google.com/vt/lyrs=s&x=31910&y=26178&z=16 \"HTTP/1.1 200 OK\"\n",
      "2024-05-22 02:32:07,630 - INFO - HTTP Request: GET https://mt1.google.com/vt/lyrs=s&x=31910&y=26179&z=16 \"HTTP/1.1 200 OK\"\n",
      "2024-05-22 02:32:07,655 - INFO - HTTP Request: GET https://mt1.google.com/vt/lyrs=s&x=31910&y=26181&z=16 \"HTTP/1.1 200 OK\"\n",
      "2024-05-22 02:32:07,663 - INFO - HTTP Request: GET https://mt1.google.com/vt/lyrs=s&x=31910&y=26180&z=16 \"HTTP/1.1 200 OK\"\n"
     ]
    },
    {
     "name": "stdout",
     "output_type": "stream",
     "text": [
      "Downloaded image 10/16\n",
      "Downloaded image 11/16\n",
      "Downloaded image 12/16\n",
      "Downloaded image 13/16\n",
      "Downloaded image 14/16\n",
      "Downloaded image 15/16\n",
      "Downloaded image 16/16\n",
      "Saving GeoTIFF. Please wait...\n"
     ]
    },
    {
     "name": "stderr",
     "output_type": "stream",
     "text": [
      "2024-05-22 02:32:08,815 - INFO - HTTP Request: GET https://mt1.google.com/vt/lyrs=s&x=31919&y=26191&z=16 \"HTTP/1.1 200 OK\"\n",
      "2024-05-22 02:32:08,820 - INFO - HTTP Request: GET https://mt1.google.com/vt/lyrs=s&x=31919&y=26193&z=16 \"HTTP/1.1 200 OK\"\n",
      "2024-05-22 02:32:08,821 - INFO - HTTP Request: GET https://mt1.google.com/vt/lyrs=s&x=31920&y=26191&z=16 \"HTTP/1.1 200 OK\"\n",
      "2024-05-22 02:32:08,823 - INFO - HTTP Request: GET https://mt1.google.com/vt/lyrs=s&x=31919&y=26192&z=16 \"HTTP/1.1 200 OK\"\n",
      "2024-05-22 02:32:08,824 - INFO - HTTP Request: GET https://mt1.google.com/vt/lyrs=s&x=31919&y=26194&z=16 \"HTTP/1.1 200 OK\"\n",
      "2024-05-22 02:32:08,858 - INFO - HTTP Request: GET https://mt1.google.com/vt/lyrs=s&x=31920&y=26192&z=16 \"HTTP/1.1 200 OK\"\n",
      "2024-05-22 02:32:08,867 - INFO - HTTP Request: GET https://mt1.google.com/vt/lyrs=s&x=31920&y=26193&z=16 \"HTTP/1.1 200 OK\"\n"
     ]
    },
    {
     "name": "stdout",
     "output_type": "stream",
     "text": [
      "Image saved to ZOOM17/1_fa2d3722-d8d3-4787-9ac1-69aaadd8962b.png\n",
      "Downloaded image 01/16\n",
      "Downloaded image 02/16\n",
      "Downloaded image 03/16\n",
      "Downloaded image 04/16\n",
      "Downloaded image 05/16\n",
      "Downloaded image 06/16\n"
     ]
    },
    {
     "name": "stderr",
     "output_type": "stream",
     "text": [
      "2024-05-22 02:32:08,876 - INFO - HTTP Request: GET https://mt1.google.com/vt/lyrs=s&x=31920&y=26194&z=16 \"HTTP/1.1 200 OK\"\n",
      "2024-05-22 02:32:08,880 - INFO - HTTP Request: GET https://mt1.google.com/vt/lyrs=s&x=31921&y=26191&z=16 \"HTTP/1.1 200 OK\"\n",
      "2024-05-22 02:32:08,892 - INFO - HTTP Request: GET https://mt1.google.com/vt/lyrs=s&x=31921&y=26192&z=16 \"HTTP/1.1 200 OK\"\n",
      "2024-05-22 02:32:08,900 - INFO - HTTP Request: GET https://mt1.google.com/vt/lyrs=s&x=31921&y=26193&z=16 \"HTTP/1.1 200 OK\"\n",
      "2024-05-22 02:32:08,940 - INFO - HTTP Request: GET https://mt1.google.com/vt/lyrs=s&x=31922&y=26191&z=16 \"HTTP/1.1 200 OK\"\n",
      "2024-05-22 02:32:08,968 - INFO - HTTP Request: GET https://mt1.google.com/vt/lyrs=s&x=31921&y=26194&z=16 \"HTTP/1.1 200 OK\"\n",
      "2024-05-22 02:32:08,970 - INFO - HTTP Request: GET https://mt1.google.com/vt/lyrs=s&x=31922&y=26193&z=16 \"HTTP/1.1 200 OK\"\n",
      "2024-05-22 02:32:08,977 - INFO - HTTP Request: GET https://mt1.google.com/vt/lyrs=s&x=31922&y=26192&z=16 \"HTTP/1.1 200 OK\"\n",
      "2024-05-22 02:32:09,029 - INFO - HTTP Request: GET https://mt1.google.com/vt/lyrs=s&x=31922&y=26194&z=16 \"HTTP/1.1 200 OK\"\n"
     ]
    },
    {
     "name": "stdout",
     "output_type": "stream",
     "text": [
      "Downloaded image 07/16\n",
      "Downloaded image 08/16\n",
      "Downloaded image 09/16\n",
      "Downloaded image 10/16\n",
      "Downloaded image 11/16\n",
      "Downloaded image 12/16\n",
      "Downloaded image 13/16\n",
      "Downloaded image 14/16\n",
      "Downloaded image 15/16\n",
      "Downloaded image 16/16\n",
      "Saving GeoTIFF. Please wait...\n"
     ]
    },
    {
     "name": "stderr",
     "output_type": "stream",
     "text": [
      "2024-05-22 02:32:09,445 - INFO - Download complete\n"
     ]
    },
    {
     "name": "stdout",
     "output_type": "stream",
     "text": [
      "Image saved to ZOOM17/2_3f306e5e-6828-4faa-9e23-07ce03ad4b9a.png\n"
     ]
    }
   ],
   "source": [
    "os.makedirs(DEFAULT_OUTPUT_DIR, exist_ok=True)\n",
    "gdf1 = gdf[:3]\n",
    "for index, row in gdf1.iterrows():\n",
    "    bbox = create_bounding_box_from_polygon(str(row['geometry']), DEFAULT_WIDTH_KM, DEFAULT_HEIGHT_KM)\n",
    "    file_name = clean_filename(row[\"parcel_id\"])\n",
    "    output_path = f\"{DEFAULT_OUTPUT_DIR}/{index}_{file_name}.png\"\n",
    "    GeoTif.geotif(output=output_path, bbox=bbox, zoom=DEFAULT_ZOOM)\n",
    "\n",
    "logging.info(\"Download complete\")\n",
    " "
   ]
  }
 ],
 "metadata": {
  "kernelspec": {
   "display_name": "base",
   "language": "python",
   "name": "python3"
  },
  "language_info": {
   "codemirror_mode": {
    "name": "ipython",
    "version": 3
   },
   "file_extension": ".py",
   "mimetype": "text/x-python",
   "name": "python",
   "nbconvert_exporter": "python",
   "pygments_lexer": "ipython3",
   "version": "3.10.13"
  }
 },
 "nbformat": 4,
 "nbformat_minor": 2
}
